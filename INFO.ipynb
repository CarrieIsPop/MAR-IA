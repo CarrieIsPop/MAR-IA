{
  "nbformat": 4,
  "nbformat_minor": 0,
  "metadata": {
    "colab": {
      "provenance": [],
      "authorship_tag": "ABX9TyPbzQCtuzMaSyAYbCvEF0Lq",
      "include_colab_link": true
    },
    "kernelspec": {
      "name": "python3",
      "display_name": "Python 3"
    },
    "language_info": {
      "name": "python"
    }
  },
  "cells": [
    {
      "cell_type": "markdown",
      "metadata": {
        "id": "view-in-github",
        "colab_type": "text"
      },
      "source": [
        "<a href=\"https://colab.research.google.com/github/CarrieIsPop/MAR-IA/blob/main/INFO.ipynb\" target=\"_parent\"><img src=\"https://colab.research.google.com/assets/colab-badge.svg\" alt=\"Open In Colab\"/></a>"
      ]
    },
    {
      "cell_type": "code",
      "execution_count": null,
      "metadata": {
        "id": "PS31qfKmtp3Z"
      },
      "outputs": [],
      "source": [
        "import numpy as np\n",
        "#pip install numpy"
      ]
    },
    {
      "cell_type": "markdown",
      "source": [
        "ARRAYS DE 1 DIMENSION"
      ],
      "metadata": {
        "id": "jJeAbNE_wyzc"
      }
    },
    {
      "cell_type": "code",
      "source": [
        "array_1d = np.array([10, 20, 30])\n",
        "print(array_1d)"
      ],
      "metadata": {
        "colab": {
          "base_uri": "https://localhost:8080/"
        },
        "id": "rykw8uuCvy4N",
        "outputId": "abd6ccdb-ce97-433f-c04a-73e4631666b4"
      },
      "execution_count": null,
      "outputs": [
        {
          "output_type": "stream",
          "name": "stdout",
          "text": [
            "[10 20 30]\n"
          ]
        }
      ]
    },
    {
      "cell_type": "code",
      "source": [
        "array_1d"
      ],
      "metadata": {
        "colab": {
          "base_uri": "https://localhost:8080/"
        },
        "id": "g0WE_wjfwat7",
        "outputId": "c40fbe44-82ea-4091-84f5-dade1977ddce"
      },
      "execution_count": null,
      "outputs": [
        {
          "output_type": "execute_result",
          "data": {
            "text/plain": [
              "array([10, 20, 30])"
            ]
          },
          "metadata": {},
          "execution_count": 18
        }
      ]
    },
    {
      "cell_type": "markdown",
      "source": [
        "ARRAYS DE 2 DIMENSIONES"
      ],
      "metadata": {
        "id": "BVUSJrmdwu6D"
      }
    },
    {
      "cell_type": "code",
      "source": [
        "array_2d = np.array([(10,20,30),(50,60,70)])\n",
        "print(array_2d)"
      ],
      "metadata": {
        "colab": {
          "base_uri": "https://localhost:8080/"
        },
        "id": "oyeZwmmsw4Rk",
        "outputId": "a60e0dba-cae0-4c29-e2f1-ddc90ab04623"
      },
      "execution_count": null,
      "outputs": [
        {
          "output_type": "stream",
          "name": "stdout",
          "text": [
            "[[10 20 30]\n",
            " [50 60 70]]\n"
          ]
        }
      ]
    },
    {
      "cell_type": "markdown",
      "source": [
        "ARRAYS DE 3 DIMENSIONES"
      ],
      "metadata": {
        "id": "DdUSaBHoxy3d"
      }
    },
    {
      "cell_type": "code",
      "source": [
        "array_3d = np.array([(10, 20, 30),(40, 50, 60),(70, 80, 90)], dtype=float)\n",
        "array_3d"
      ],
      "metadata": {
        "colab": {
          "base_uri": "https://localhost:8080/"
        },
        "id": "DR4OWaHax2lN",
        "outputId": "37d01084-a7b4-414f-c1a7-efdce8d2866e"
      },
      "execution_count": null,
      "outputs": [
        {
          "output_type": "execute_result",
          "data": {
            "text/plain": [
              "array([[10., 20., 30.],\n",
              "       [40., 50., 60.],\n",
              "       [70., 80., 90.]])"
            ]
          },
          "metadata": {},
          "execution_count": 20
        }
      ]
    },
    {
      "cell_type": "markdown",
      "source": [
        "ARRAY CON CEROS DE 3 FILAS Y 4 COLUMNAS"
      ],
      "metadata": {
        "id": "_-ReSBMR4Wtr"
      }
    },
    {
      "cell_type": "code",
      "source": [
        "np.zeros((3, 4))"
      ],
      "metadata": {
        "colab": {
          "base_uri": "https://localhost:8080/"
        },
        "id": "kOV75XCr4fA6",
        "outputId": "c93d2fba-2354-4550-b170-42e16d425d84"
      },
      "execution_count": null,
      "outputs": [
        {
          "output_type": "execute_result",
          "data": {
            "text/plain": [
              "array([[0., 0., 0., 0.],\n",
              "       [0., 0., 0., 0.],\n",
              "       [0., 0., 0., 0.]])"
            ]
          },
          "metadata": {},
          "execution_count": 21
        }
      ]
    },
    {
      "cell_type": "code",
      "source": [
        "print(np.zeros((4, 5)))"
      ],
      "metadata": {
        "colab": {
          "base_uri": "https://localhost:8080/"
        },
        "id": "eeRHahq34l95",
        "outputId": "1a60db76-b0f5-4e9f-ed40-8b18f6c073c3"
      },
      "execution_count": null,
      "outputs": [
        {
          "output_type": "stream",
          "name": "stdout",
          "text": [
            "[[0. 0. 0. 0. 0.]\n",
            " [0. 0. 0. 0. 0.]\n",
            " [0. 0. 0. 0. 0.]\n",
            " [0. 0. 0. 0. 0.]]\n"
          ]
        }
      ]
    },
    {
      "cell_type": "markdown",
      "source": [
        "ARRAY DE 1 CON DOS DIMENSIONES DE 4 FILAS Y 5 COLUMNAS"
      ],
      "metadata": {
        "id": "TejyWVHC41qi"
      }
    },
    {
      "cell_type": "code",
      "source": [
        "np.ones((2, 4, 5))"
      ],
      "metadata": {
        "colab": {
          "base_uri": "https://localhost:8080/"
        },
        "id": "W1CkzOVY480a",
        "outputId": "6b875bb2-63e7-404a-ed70-57f72f313fd5"
      },
      "execution_count": null,
      "outputs": [
        {
          "output_type": "execute_result",
          "data": {
            "text/plain": [
              "array([[[1., 1., 1., 1., 1.],\n",
              "        [1., 1., 1., 1., 1.],\n",
              "        [1., 1., 1., 1., 1.],\n",
              "        [1., 1., 1., 1., 1.]],\n",
              "\n",
              "       [[1., 1., 1., 1., 1.],\n",
              "        [1., 1., 1., 1., 1.],\n",
              "        [1., 1., 1., 1., 1.],\n",
              "        [1., 1., 1., 1., 1.]]])"
            ]
          },
          "metadata": {},
          "execution_count": 23
        }
      ]
    },
    {
      "cell_type": "markdown",
      "source": [
        "ARRAYS CON INTERVALOS Y SALTOS"
      ],
      "metadata": {
        "id": "83_u79Qz5Whp"
      }
    },
    {
      "cell_type": "code",
      "source": [
        "np.arange(11, 30, 2)"
      ],
      "metadata": {
        "colab": {
          "base_uri": "https://localhost:8080/"
        },
        "id": "U7xCBOcd5apr",
        "outputId": "5d7c57a7-21ad-4ba9-a7b6-4398813b7740"
      },
      "execution_count": null,
      "outputs": [
        {
          "output_type": "execute_result",
          "data": {
            "text/plain": [
              "array([11, 13, 15, 17, 19, 21, 23, 25, 27, 29])"
            ]
          },
          "metadata": {},
          "execution_count": 24
        }
      ]
    },
    {
      "cell_type": "markdown",
      "source": [
        "ARRAY CON INTERVALOS Y DIVISIONES"
      ],
      "metadata": {
        "id": "umL4Sn_H6MhK"
      }
    },
    {
      "cell_type": "code",
      "source": [
        "np.linspace(0, 4, 7)"
      ],
      "metadata": {
        "colab": {
          "base_uri": "https://localhost:8080/"
        },
        "id": "jU_kepgV6N56",
        "outputId": "0140bc23-c1fe-4569-c95b-76e0abe44d90"
      },
      "execution_count": null,
      "outputs": [
        {
          "output_type": "execute_result",
          "data": {
            "text/plain": [
              "array([0.        , 0.66666667, 1.33333333, 2.        , 2.66666667,\n",
              "       3.33333333, 4.        ])"
            ]
          },
          "metadata": {},
          "execution_count": 25
        }
      ]
    },
    {
      "cell_type": "markdown",
      "source": [
        "ARRAYS CON VALORES DADOS"
      ],
      "metadata": {
        "id": "x5F0Gcpw8mUJ"
      }
    },
    {
      "cell_type": "code",
      "source": [
        "np.full((3, 3), 7)"
      ],
      "metadata": {
        "colab": {
          "base_uri": "https://localhost:8080/"
        },
        "id": "zIBprHsy8o4Y",
        "outputId": "2feeab0a-8b4a-457a-e233-c50a736f6732"
      },
      "execution_count": null,
      "outputs": [
        {
          "output_type": "execute_result",
          "data": {
            "text/plain": [
              "array([[7, 7, 7],\n",
              "       [7, 7, 7],\n",
              "       [7, 7, 7]])"
            ]
          },
          "metadata": {},
          "execution_count": 26
        }
      ]
    },
    {
      "cell_type": "markdown",
      "source": [
        "ARRAY CON MATRIZ IDENTIDAD, DIAGONAL DE UNOS"
      ],
      "metadata": {
        "id": "Up89GEP787g5"
      }
    },
    {
      "cell_type": "code",
      "source": [
        "np.eye(3)"
      ],
      "metadata": {
        "colab": {
          "base_uri": "https://localhost:8080/"
        },
        "id": "yolUdtqG9Dvx",
        "outputId": "e1e4aa15-9f66-4394-ad09-490a27217217"
      },
      "execution_count": null,
      "outputs": [
        {
          "output_type": "execute_result",
          "data": {
            "text/plain": [
              "array([[1., 0., 0.],\n",
              "       [0., 1., 0.],\n",
              "       [0., 0., 1.]])"
            ]
          },
          "metadata": {},
          "execution_count": 27
        }
      ]
    },
    {
      "cell_type": "markdown",
      "source": [
        "ARRAY CON VALORES ALEATORIOS 0-1"
      ],
      "metadata": {
        "id": "9ojjmqGY-iXy"
      }
    },
    {
      "cell_type": "code",
      "source": [
        "np.random.random((4, 4))"
      ],
      "metadata": {
        "colab": {
          "base_uri": "https://localhost:8080/"
        },
        "id": "YfemC3BO-nCS",
        "outputId": "fd4221b7-5ce2-4a98-db9a-5c03738f7992"
      },
      "execution_count": null,
      "outputs": [
        {
          "output_type": "execute_result",
          "data": {
            "text/plain": [
              "array([[0.69989908, 0.27598912, 0.44030102, 0.66375047],\n",
              "       [0.04568867, 0.55503278, 0.26949896, 0.33134757],\n",
              "       [0.97259923, 0.67440139, 0.68339783, 0.15122542],\n",
              "       [0.18730509, 0.71285266, 0.43723202, 0.6526817 ]])"
            ]
          },
          "metadata": {},
          "execution_count": 28
        }
      ]
    },
    {
      "cell_type": "markdown",
      "source": [
        "ARRAY DE NUMEROS VACIOS 4*3"
      ],
      "metadata": {
        "id": "S2vHps6l_Lpx"
      }
    },
    {
      "cell_type": "code",
      "source": [
        "np.empty((4, 3))"
      ],
      "metadata": {
        "colab": {
          "base_uri": "https://localhost:8080/"
        },
        "id": "9ae_t7yU_PSx",
        "outputId": "5b8a56ac-3428-444f-b86c-5fe4b686c9dd"
      },
      "execution_count": null,
      "outputs": [
        {
          "output_type": "execute_result",
          "data": {
            "text/plain": [
              "array([[0., 0., 0.],\n",
              "       [0., 0., 0.],\n",
              "       [0., 0., 0.],\n",
              "       [0., 0., 0.]])"
            ]
          },
          "metadata": {},
          "execution_count": 29
        }
      ]
    },
    {
      "cell_type": "markdown",
      "source": [
        "GRABAR Y CARGAR"
      ],
      "metadata": {
        "id": "owmplDFBBcJx"
      }
    },
    {
      "cell_type": "code",
      "source": [
        "#Grabar\n",
        "np.save('my_array_2d', array_2d)"
      ],
      "metadata": {
        "id": "G4HDX5dmBf7I"
      },
      "execution_count": null,
      "outputs": []
    },
    {
      "cell_type": "code",
      "source": [
        "#Cargar\n",
        "my_array = np.load('my_array_2d.npy')\n",
        "my_array"
      ],
      "metadata": {
        "colab": {
          "base_uri": "https://localhost:8080/"
        },
        "id": "gHXmuUnKCiPI",
        "outputId": "cb0799bc-482d-43ca-8e44-1cc77f47a7fb"
      },
      "execution_count": null,
      "outputs": [
        {
          "output_type": "execute_result",
          "data": {
            "text/plain": [
              "array([[10, 20, 30],\n",
              "       [50, 60, 70]])"
            ]
          },
          "metadata": {},
          "execution_count": 31
        }
      ]
    },
    {
      "cell_type": "markdown",
      "source": [
        "GRABAR Y CARGAR FICHEROS DE TEXTO"
      ],
      "metadata": {
        "id": "27cTYIuxE4Q5"
      }
    },
    {
      "cell_type": "code",
      "source": [
        "#Grabar el fichero de texo\n",
        "np.savetxt('my_array_2d.txt', array_2d, delimiter=' ')"
      ],
      "metadata": {
        "id": "aSdYrzuFE9Ew"
      },
      "execution_count": null,
      "outputs": []
    },
    {
      "cell_type": "code",
      "source": [
        "#Cargar de fichero de texto\n",
        "np.loadtxt('my_array_2d.txt')"
      ],
      "metadata": {
        "colab": {
          "base_uri": "https://localhost:8080/"
        },
        "id": "x0iNNU4rGGsh",
        "outputId": "a9277f6d-ec1f-452c-d7ba-cd7f63ef33ed"
      },
      "execution_count": null,
      "outputs": [
        {
          "output_type": "execute_result",
          "data": {
            "text/plain": [
              "array([[10., 20., 30.],\n",
              "       [50., 60., 70.]])"
            ]
          },
          "metadata": {},
          "execution_count": 33
        }
      ]
    },
    {
      "cell_type": "markdown",
      "source": [
        "TIPOS DE DATOS"
      ],
      "metadata": {
        "id": "W6Mt8G6kg1pb"
      }
    },
    {
      "cell_type": "code",
      "source": [
        "#ENTEROS\n",
        "np.int64"
      ],
      "metadata": {
        "colab": {
          "base_uri": "https://localhost:8080/"
        },
        "id": "5uPZaXlNg3Sq",
        "outputId": "1d6f833a-ff41-40be-b650-419a62b0e288"
      },
      "execution_count": null,
      "outputs": [
        {
          "output_type": "execute_result",
          "data": {
            "text/plain": [
              "numpy.int64"
            ]
          },
          "metadata": {},
          "execution_count": 34
        }
      ]
    },
    {
      "cell_type": "code",
      "source": [
        "#DECIMAL, FLOTANTES\n",
        "np.float64"
      ],
      "metadata": {
        "colab": {
          "base_uri": "https://localhost:8080/"
        },
        "id": "5EBpYmdShMvi",
        "outputId": "b8a27374-d7de-4bdb-ab3c-9648a3ccb6f3"
      },
      "execution_count": null,
      "outputs": [
        {
          "output_type": "execute_result",
          "data": {
            "text/plain": [
              "numpy.float64"
            ]
          },
          "metadata": {},
          "execution_count": 35
        }
      ]
    },
    {
      "cell_type": "code",
      "source": [
        "#COMPLEJOS\n",
        "np.complex64"
      ],
      "metadata": {
        "colab": {
          "base_uri": "https://localhost:8080/"
        },
        "id": "rwknUie4hisz",
        "outputId": "f49e2356-1e90-46c0-ee23-f27903995151"
      },
      "execution_count": null,
      "outputs": [
        {
          "output_type": "execute_result",
          "data": {
            "text/plain": [
              "numpy.complex64"
            ]
          },
          "metadata": {},
          "execution_count": 36
        }
      ]
    },
    {
      "cell_type": "code",
      "source": [
        "#BOOLEANOS\n",
        "np.bool_"
      ],
      "metadata": {
        "colab": {
          "base_uri": "https://localhost:8080/"
        },
        "id": "1K5naa0cjLw6",
        "outputId": "4dd92aa3-0020-406c-eaa8-410ea77800f1"
      },
      "execution_count": null,
      "outputs": [
        {
          "output_type": "execute_result",
          "data": {
            "text/plain": [
              "numpy.bool"
            ]
          },
          "metadata": {},
          "execution_count": 37
        }
      ]
    },
    {
      "cell_type": "code",
      "source": [
        "#OBJETOS\n",
        "np.object_"
      ],
      "metadata": {
        "colab": {
          "base_uri": "https://localhost:8080/"
        },
        "id": "aiGDKgTjlb2A",
        "outputId": "64be423d-3d38-4acc-e737-66d06fd82bf2"
      },
      "execution_count": null,
      "outputs": [
        {
          "output_type": "execute_result",
          "data": {
            "text/plain": [
              "numpy.object_"
            ]
          },
          "metadata": {},
          "execution_count": 38
        }
      ]
    },
    {
      "cell_type": "code",
      "source": [
        "#CADENAS DE TEXTO\n",
        "np.strings"
      ],
      "metadata": {
        "colab": {
          "base_uri": "https://localhost:8080/"
        },
        "id": "dL_IBNN5lkcQ",
        "outputId": "a5241dcf-ad94-4f8c-99b3-84f0befb8be0"
      },
      "execution_count": null,
      "outputs": [
        {
          "output_type": "execute_result",
          "data": {
            "text/plain": [
              "<module 'numpy.strings' from '/usr/local/lib/python3.11/dist-packages/numpy/strings/__init__.py'>"
            ]
          },
          "metadata": {},
          "execution_count": 39
        }
      ]
    },
    {
      "cell_type": "code",
      "source": [
        "np.bytes_"
      ],
      "metadata": {
        "colab": {
          "base_uri": "https://localhost:8080/"
        },
        "id": "WUx3vbSnmKbx",
        "outputId": "8d5da026-4a5e-469f-f784-92b191795268"
      },
      "execution_count": null,
      "outputs": [
        {
          "output_type": "execute_result",
          "data": {
            "text/plain": [
              "numpy.bytes_"
            ]
          },
          "metadata": {},
          "execution_count": 40
        }
      ]
    },
    {
      "cell_type": "markdown",
      "source": [
        "PROPIEDADES Y CARACTERISTICAS DE ENTORNOS"
      ],
      "metadata": {
        "id": "QG6UfI9Dmuji"
      }
    },
    {
      "cell_type": "code",
      "source": [
        "array_3d"
      ],
      "metadata": {
        "colab": {
          "base_uri": "https://localhost:8080/"
        },
        "id": "w4DhSUqam4lx",
        "outputId": "34d207d2-61ac-4145-b452-6292653f0e53"
      },
      "execution_count": null,
      "outputs": [
        {
          "output_type": "execute_result",
          "data": {
            "text/plain": [
              "array([[10., 20., 30.],\n",
              "       [40., 50., 60.],\n",
              "       [70., 80., 90.]])"
            ]
          },
          "metadata": {},
          "execution_count": 41
        }
      ]
    },
    {
      "cell_type": "code",
      "source": [
        "array_3d.shape"
      ],
      "metadata": {
        "colab": {
          "base_uri": "https://localhost:8080/"
        },
        "id": "VM4CYCRNnWUy",
        "outputId": "d21ced32-3810-4d96-d79f-c99c3992d0ee"
      },
      "execution_count": null,
      "outputs": [
        {
          "output_type": "execute_result",
          "data": {
            "text/plain": [
              "(3, 3)"
            ]
          },
          "metadata": {},
          "execution_count": 42
        }
      ]
    },
    {
      "cell_type": "code",
      "source": [
        "#LONGITUD\n",
        "len(array_3d)"
      ],
      "metadata": {
        "colab": {
          "base_uri": "https://localhost:8080/"
        },
        "id": "6EIBeJbqnlu4",
        "outputId": "90a535a9-9b25-4b64-a333-1887cc2102bb"
      },
      "execution_count": null,
      "outputs": [
        {
          "output_type": "execute_result",
          "data": {
            "text/plain": [
              "3"
            ]
          },
          "metadata": {},
          "execution_count": 44
        }
      ]
    },
    {
      "cell_type": "code",
      "source": [
        "#NUMERO DE DIMENSIONES\n",
        "array_3d.ndim"
      ],
      "metadata": {
        "colab": {
          "base_uri": "https://localhost:8080/"
        },
        "id": "cwv_GyHsoFxa",
        "outputId": "764d670d-ca9c-40b8-c94d-de001e1ad223"
      },
      "execution_count": null,
      "outputs": [
        {
          "output_type": "execute_result",
          "data": {
            "text/plain": [
              "2"
            ]
          },
          "metadata": {},
          "execution_count": 50
        }
      ]
    },
    {
      "cell_type": "code",
      "source": [
        "array_5d = np.array([[[[[1]], [[2]]], [[[3]], [[4]]], [[[5]], [[6]]], [[[7]], [[8]]], [[[9]], [[10]]]]], ndmin=5)\n",
        "print(array_5d)"
      ],
      "metadata": {
        "colab": {
          "base_uri": "https://localhost:8080/"
        },
        "id": "9NQlAjf3rDgg",
        "outputId": "3ca0801e-69ec-4e95-c53d-a58559ed91fa"
      },
      "execution_count": null,
      "outputs": [
        {
          "output_type": "stream",
          "name": "stdout",
          "text": [
            "[[[[[ 1]]\n",
            "\n",
            "   [[ 2]]]\n",
            "\n",
            "\n",
            "  [[[ 3]]\n",
            "\n",
            "   [[ 4]]]\n",
            "\n",
            "\n",
            "  [[[ 5]]\n",
            "\n",
            "   [[ 6]]]\n",
            "\n",
            "\n",
            "  [[[ 7]]\n",
            "\n",
            "   [[ 8]]]\n",
            "\n",
            "\n",
            "  [[[ 9]]\n",
            "\n",
            "   [[10]]]]]\n"
          ]
        }
      ]
    },
    {
      "cell_type": "code",
      "source": [
        "array_5d.ndim"
      ],
      "metadata": {
        "colab": {
          "base_uri": "https://localhost:8080/"
        },
        "id": "9ItWekRwrJeg",
        "outputId": "c20a0bd9-9f05-49ae-82a2-b65e4edae0a0"
      },
      "execution_count": null,
      "outputs": [
        {
          "output_type": "execute_result",
          "data": {
            "text/plain": [
              "5"
            ]
          },
          "metadata": {},
          "execution_count": 54
        }
      ]
    },
    {
      "cell_type": "code",
      "source": [
        "#TIPOS DE DATOS\n",
        "array_3d.dtype"
      ],
      "metadata": {
        "colab": {
          "base_uri": "https://localhost:8080/"
        },
        "id": "FH7yOVg5sYUY",
        "outputId": "c174a551-475d-443d-e620-987598a80c24"
      },
      "execution_count": null,
      "outputs": [
        {
          "output_type": "execute_result",
          "data": {
            "text/plain": [
              "dtype('float64')"
            ]
          },
          "metadata": {},
          "execution_count": 55
        }
      ]
    },
    {
      "cell_type": "code",
      "source": [
        "array_3d.dtype.name"
      ],
      "metadata": {
        "colab": {
          "base_uri": "https://localhost:8080/",
          "height": 35
        },
        "id": "FwYlfxj9swl3",
        "outputId": "59347a80-51c3-453f-e1bc-22540e4d535b"
      },
      "execution_count": null,
      "outputs": [
        {
          "output_type": "execute_result",
          "data": {
            "text/plain": [
              "'float64'"
            ],
            "application/vnd.google.colaboratory.intrinsic+json": {
              "type": "string"
            }
          },
          "metadata": {},
          "execution_count": 56
        }
      ]
    },
    {
      "cell_type": "code",
      "source": [
        "#CONVERTIR DE UN TIPO DE DATO A OTRO TIPO DE DATO\n",
        "array_3d.astype(int)"
      ],
      "metadata": {
        "colab": {
          "base_uri": "https://localhost:8080/"
        },
        "id": "tUvRCGGBtDl_",
        "outputId": "2486d93f-aba6-4d05-c887-e55668e7a7fa"
      },
      "execution_count": null,
      "outputs": [
        {
          "output_type": "execute_result",
          "data": {
            "text/plain": [
              "array([[10, 20, 30],\n",
              "       [40, 50, 60],\n",
              "       [70, 80, 90]])"
            ]
          },
          "metadata": {},
          "execution_count": 63
        }
      ]
    },
    {
      "cell_type": "markdown",
      "source": [
        "OPERADORES MATEMATICOS"
      ],
      "metadata": {
        "id": "8Cdd3x03t7xv"
      }
    },
    {
      "cell_type": "code",
      "source": [
        "#ARRAY DE EJEMPLOS\n",
        "array1 = np.random.random((4, 4))\n",
        "array1"
      ],
      "metadata": {
        "colab": {
          "base_uri": "https://localhost:8080/"
        },
        "id": "ljE4F3Y_t-LH",
        "outputId": "82ac3a14-7e90-4c03-d3d2-50174307cc87"
      },
      "execution_count": null,
      "outputs": [
        {
          "output_type": "execute_result",
          "data": {
            "text/plain": [
              "array([[0.21649176, 0.55701407, 0.38032676, 0.77972859],\n",
              "       [0.76491203, 0.9280375 , 0.15135794, 0.87792324],\n",
              "       [0.98985312, 0.68576144, 0.18182032, 0.0882285 ],\n",
              "       [0.79558793, 0.42287882, 0.75372384, 0.91786839]])"
            ]
          },
          "metadata": {},
          "execution_count": 64
        }
      ]
    },
    {
      "cell_type": "code",
      "source": [
        "array2 = np.random.random((4, 4))\n",
        "array2"
      ],
      "metadata": {
        "colab": {
          "base_uri": "https://localhost:8080/"
        },
        "id": "_9wGdEMvuisw",
        "outputId": "0d97a614-04bd-43dd-f2c7-3bfa755738e4"
      },
      "execution_count": null,
      "outputs": [
        {
          "output_type": "execute_result",
          "data": {
            "text/plain": [
              "array([[0.86687809, 0.27224441, 0.73009429, 0.29252134],\n",
              "       [0.70634083, 0.78787131, 0.25279326, 0.66841159],\n",
              "       [0.71446419, 0.77552319, 0.60430413, 0.97739149],\n",
              "       [0.69954762, 0.99604907, 0.47220527, 0.22985173]])"
            ]
          },
          "metadata": {},
          "execution_count": 65
        }
      ]
    },
    {
      "cell_type": "code",
      "source": [
        "array3 = np.random.random((4, 4))\n",
        "array3"
      ],
      "metadata": {
        "colab": {
          "base_uri": "https://localhost:8080/"
        },
        "id": "G1OlSnnouxOv",
        "outputId": "66b0da7e-abfc-4631-9a58-95d46bbba2c2"
      },
      "execution_count": null,
      "outputs": [
        {
          "output_type": "execute_result",
          "data": {
            "text/plain": [
              "array([[0.13457862, 0.37490748, 0.76859272, 0.43994569],\n",
              "       [0.37056834, 0.07353228, 0.44635969, 0.02998595],\n",
              "       [0.90082968, 0.55390251, 0.40518753, 0.6294463 ],\n",
              "       [0.6034271 , 0.27295236, 0.02593352, 0.72095108]])"
            ]
          },
          "metadata": {},
          "execution_count": 79
        }
      ]
    },
    {
      "cell_type": "code",
      "source": [
        "#SUMA\n",
        "array4 = array1 + array2 + array3\n",
        "print(array4)"
      ],
      "metadata": {
        "colab": {
          "base_uri": "https://localhost:8080/"
        },
        "id": "00tsCprsu-3Q",
        "outputId": "b48a559b-a375-4ffe-cd0d-c94cb19d3c88"
      },
      "execution_count": null,
      "outputs": [
        {
          "output_type": "stream",
          "name": "stdout",
          "text": [
            "[[1.65075887 1.80771578 1.12679227 1.93614058]\n",
            " [2.25657794 2.51293481 0.52651976 1.74568203]\n",
            " [2.69635363 1.69732781 0.81679929 1.56784888]\n",
            " [2.17475731 2.2859499  1.76593366 1.56003487]]\n"
          ]
        }
      ]
    },
    {
      "cell_type": "code",
      "source": [
        "#RESTA\n",
        "array4 = array1 - array2 - array3\n",
        "print(array4)"
      ],
      "metadata": {
        "colab": {
          "base_uri": "https://localhost:8080/"
        },
        "id": "oI1O-7D1vpMo",
        "outputId": "37fd17ef-b459-4d07-8141-85577d7bfd5a"
      },
      "execution_count": null,
      "outputs": [
        {
          "output_type": "stream",
          "name": "stdout",
          "text": [
            "[[-0.8380583   0.1331257  -0.62744192  0.25912001]\n",
            " [-0.48171739 -0.59100793 -0.13969759 -0.37730241]\n",
            " [-0.43182569 -0.62158565 -0.53235858 -0.97539677]\n",
            " [-0.46051133 -0.99437831 -0.0743938   0.47704302]]\n"
          ]
        }
      ]
    },
    {
      "cell_type": "code",
      "source": [
        "array4 = np.subtract(array1, array2, array3)\n",
        "print(array4)"
      ],
      "metadata": {
        "colab": {
          "base_uri": "https://localhost:8080/"
        },
        "id": "w5djTuQlxJ1_",
        "outputId": "e0ded282-304f-42e8-ae7d-0c988f67a86b"
      },
      "execution_count": null,
      "outputs": [
        {
          "output_type": "stream",
          "name": "stdout",
          "text": [
            "[[-0.65038634  0.28476967 -0.34976753  0.48720726]\n",
            " [ 0.0585712   0.1401662  -0.10143532  0.20951166]\n",
            " [ 0.27538892 -0.08976175 -0.42248381 -0.88916298]\n",
            " [ 0.09604031 -0.57317025  0.28151856  0.68801666]]\n"
          ]
        }
      ]
    },
    {
      "cell_type": "code",
      "source": [
        "#MULTIPLICACION\n",
        "array4 = np.multiply(array1, array2, array3)\n",
        "print(array4)"
      ],
      "metadata": {
        "colab": {
          "base_uri": "https://localhost:8080/"
        },
        "id": "7HSa0AJfwLM_",
        "outputId": "ebebff4a-e6e5-42cb-8d57-21ec2a6519ea"
      },
      "execution_count": null,
      "outputs": [
        {
          "output_type": "stream",
          "name": "stdout",
          "text": [
            "[[0.18767196 0.15164397 0.2776744  0.22808725]\n",
            " [0.5402886  0.73117412 0.03826227 0.58681407]\n",
            " [0.70721461 0.53182389 0.10987477 0.08623379]\n",
            " [0.55655164 0.42120806 0.35591237 0.21097364]]\n"
          ]
        }
      ]
    },
    {
      "cell_type": "code",
      "source": [
        "#DIVISION\n",
        "array4 = np.divide(array1, array2, array3)\n",
        "print(array4)"
      ],
      "metadata": {
        "colab": {
          "base_uri": "https://localhost:8080/"
        },
        "id": "1eFBH7vzxTku",
        "outputId": "76629065-24e5-4954-cff4-afde461fca78"
      },
      "execution_count": null,
      "outputs": [
        {
          "output_type": "stream",
          "name": "stdout",
          "text": [
            "[[0.24973726 2.04600742 0.52092828 2.66554435]\n",
            " [1.08292201 1.17790494 0.598742   1.31344707]\n",
            " [1.38544818 0.88425652 0.30087553 0.09026936]\n",
            " [1.13728917 0.42455621 1.59617836 3.99330641]]\n"
          ]
        }
      ]
    },
    {
      "cell_type": "code",
      "source": [
        "#EXPONENTES\n",
        "array4 = np.exp(array1)\n",
        "print(array4)"
      ],
      "metadata": {
        "colab": {
          "base_uri": "https://localhost:8080/"
        },
        "id": "ogifE6zjxv92",
        "outputId": "e5c628fa-c5a9-4057-a660-1bd083c6d015"
      },
      "execution_count": null,
      "outputs": [
        {
          "output_type": "stream",
          "name": "stdout",
          "text": [
            "[[1.24171285 1.74545292 1.46276248 2.18088028]\n",
            " [2.14880534 2.52954009 1.16341302 2.40589805]\n",
            " [2.69083921 1.98528293 1.19939867 1.09223767]\n",
            " [2.21574331 1.52634933 2.12489807 2.50394727]]\n"
          ]
        }
      ]
    },
    {
      "cell_type": "code",
      "source": [
        "#SENO\n",
        "array4 = np.sin(array1)\n",
        "print(array4)"
      ],
      "metadata": {
        "colab": {
          "base_uri": "https://localhost:8080/"
        },
        "id": "ZcUYN51XyEfH",
        "outputId": "a1c6285b-635e-4c33-8a9e-7ea0d08ff7f2"
      },
      "execution_count": null,
      "outputs": [
        {
          "output_type": "stream",
          "name": "stdout",
          "text": [
            "[[0.2148046  0.52865399 0.3712239  0.70308645]\n",
            " [0.69247354 0.80044515 0.15078069 0.76941401]\n",
            " [0.83594538 0.6332625  0.18082019 0.08811408]\n",
            " [0.7142752  0.41038738 0.68435872 0.79430844]]\n"
          ]
        }
      ]
    },
    {
      "cell_type": "code",
      "source": [
        "#COSENO\n",
        "array4 = np.cos(array1)\n",
        "print(array4)"
      ],
      "metadata": {
        "colab": {
          "base_uri": "https://localhost:8080/"
        },
        "id": "W7YwdSgCytVv",
        "outputId": "dcd50d84-fac6-4d0c-bae6-1f1e82e4eb93"
      },
      "execution_count": null,
      "outputs": [
        {
          "output_type": "stream",
          "name": "stdout",
          "text": [
            "[[0.97665704 0.84883741 0.92854338 0.71110439]\n",
            " [0.72144328 0.59940601 0.98856724 0.63875041]\n",
            " [0.54881265 0.77393708 0.98351617 0.99611039]\n",
            " [0.69986494 0.91191129 0.72914549 0.60751469]]\n"
          ]
        }
      ]
    },
    {
      "cell_type": "code",
      "source": [
        "#LOGARITMO\n",
        "array4 = np.log(array1)\n",
        "print(array4)"
      ],
      "metadata": {
        "colab": {
          "base_uri": "https://localhost:8080/"
        },
        "id": "a_W0VhKdyvv_",
        "outputId": "76b7b08b-a364-4a56-e047-83d19b038bf0"
      },
      "execution_count": null,
      "outputs": [
        {
          "output_type": "stream",
          "name": "stdout",
          "text": [
            "[[-1.53020281 -0.58516477 -0.9667245  -0.24880938]\n",
            " [-0.26799444 -0.07468313 -1.88810776 -0.13019611]\n",
            " [-0.01019871 -0.37722547 -1.70473632 -2.42782521]\n",
            " [-0.2286739  -0.86066961 -0.28272924 -0.08570126]]\n"
          ]
        }
      ]
    },
    {
      "cell_type": "markdown",
      "source": [
        "COMPARACIONES ENTRE MATRICES"
      ],
      "metadata": {
        "id": "Kzbz0UEzy0Ke"
      }
    },
    {
      "cell_type": "code",
      "source": [
        "# ==\n",
        "array1 == array2"
      ],
      "metadata": {
        "colab": {
          "base_uri": "https://localhost:8080/"
        },
        "id": "w-E9B4Y2y2PW",
        "outputId": "07b2c80d-5285-4745-af94-2def844e9afb"
      },
      "execution_count": null,
      "outputs": [
        {
          "output_type": "execute_result",
          "data": {
            "text/plain": [
              "array([[False, False, False, False],\n",
              "       [False, False, False, False],\n",
              "       [False, False, False, False],\n",
              "       [False, False, False, False]])"
            ]
          },
          "metadata": {},
          "execution_count": 96
        }
      ]
    },
    {
      "cell_type": "code",
      "source": [
        "# <\n",
        "array1 < 0.5"
      ],
      "metadata": {
        "colab": {
          "base_uri": "https://localhost:8080/"
        },
        "id": "lPDiXHBSzM0u",
        "outputId": "8a0e1b4a-f72e-4004-ffb3-5cfbbdd408f1"
      },
      "execution_count": null,
      "outputs": [
        {
          "output_type": "execute_result",
          "data": {
            "text/plain": [
              "array([[ True, False,  True, False],\n",
              "       [False, False,  True, False],\n",
              "       [False, False,  True,  True],\n",
              "       [False,  True, False, False]])"
            ]
          },
          "metadata": {},
          "execution_count": 97
        }
      ]
    },
    {
      "cell_type": "code",
      "source": [
        "# >\n",
        "array1 > 0.5"
      ],
      "metadata": {
        "colab": {
          "base_uri": "https://localhost:8080/"
        },
        "id": "g_idFUvmzZ9H",
        "outputId": "3e6c051b-cd28-41fb-8099-fc60be9a2bdb"
      },
      "execution_count": null,
      "outputs": [
        {
          "output_type": "execute_result",
          "data": {
            "text/plain": [
              "array([[False,  True, False,  True],\n",
              "       [ True,  True, False,  True],\n",
              "       [ True,  True, False, False],\n",
              "       [ True, False,  True,  True]])"
            ]
          },
          "metadata": {},
          "execution_count": 103
        }
      ]
    },
    {
      "cell_type": "code",
      "source": [
        "# <= / >=\n",
        "array2 <= 0.6"
      ],
      "metadata": {
        "colab": {
          "base_uri": "https://localhost:8080/"
        },
        "id": "HPf6eU6qzlRm",
        "outputId": "54d09606-5d8f-4e92-e534-044be44391d4"
      },
      "execution_count": null,
      "outputs": [
        {
          "output_type": "execute_result",
          "data": {
            "text/plain": [
              "array([[False,  True, False,  True],\n",
              "       [False, False,  True, False],\n",
              "       [False, False, False, False],\n",
              "       [False, False,  True,  True]])"
            ]
          },
          "metadata": {},
          "execution_count": 104
        }
      ]
    },
    {
      "cell_type": "code",
      "source": [
        "array2 >= 0.6"
      ],
      "metadata": {
        "colab": {
          "base_uri": "https://localhost:8080/"
        },
        "id": "Qn6KaV6wz5vQ",
        "outputId": "c056cd98-7ddc-4e7d-9ae9-a21845677f6d"
      },
      "execution_count": null,
      "outputs": [
        {
          "output_type": "execute_result",
          "data": {
            "text/plain": [
              "array([[ True, False,  True, False],\n",
              "       [ True,  True, False,  True],\n",
              "       [ True,  True,  True,  True],\n",
              "       [ True,  True, False, False]])"
            ]
          },
          "metadata": {},
          "execution_count": 105
        }
      ]
    },
    {
      "cell_type": "markdown",
      "source": [
        "ESTADISTICAS Y FUNCIONES"
      ],
      "metadata": {
        "id": "eGdJ4MUxz13W"
      }
    },
    {
      "cell_type": "code",
      "source": [
        "array6 = np.random.random((5, 5))\n",
        "array6"
      ],
      "metadata": {
        "colab": {
          "base_uri": "https://localhost:8080/"
        },
        "id": "XIoiCHF3z-b-",
        "outputId": "fcec9af8-b0cd-40aa-976f-bc994b34a1a1"
      },
      "execution_count": null,
      "outputs": [
        {
          "output_type": "execute_result",
          "data": {
            "text/plain": [
              "array([[0.55771642, 0.33482439, 0.59152061, 0.26910535, 0.79941345],\n",
              "       [0.46542389, 0.92455195, 0.54330924, 0.5151736 , 0.68813207],\n",
              "       [0.78952715, 0.18865819, 0.02368247, 0.92581823, 0.08735576],\n",
              "       [0.84798314, 0.55683703, 0.65205918, 0.8685013 , 0.52918677],\n",
              "       [0.98668328, 0.21366973, 0.61399476, 0.42040066, 0.14062893]])"
            ]
          },
          "metadata": {},
          "execution_count": 113
        }
      ]
    },
    {
      "cell_type": "code",
      "source": [
        "#SUMA DE ELEMENTOS\n",
        "sumaTotal = np.sum(array6)\n",
        "print(sumaTotal)"
      ],
      "metadata": {
        "colab": {
          "base_uri": "https://localhost:8080/"
        },
        "id": "FaT9maRB0pFG",
        "outputId": "b1a8982f-43b2-4f1c-cda6-417d211a2199"
      },
      "execution_count": null,
      "outputs": [
        {
          "output_type": "stream",
          "name": "stdout",
          "text": [
            "13.534157560895048\n"
          ]
        }
      ]
    },
    {
      "cell_type": "code",
      "source": [
        "#VALOR MINIMO - MAXIMO\n",
        "print(np.min(array6))\n",
        "print(np.max(array6))"
      ],
      "metadata": {
        "colab": {
          "base_uri": "https://localhost:8080/"
        },
        "id": "N4W018LB0-h9",
        "outputId": "e56ea036-0861-4f39-8218-5aaea92a50fc"
      },
      "execution_count": null,
      "outputs": [
        {
          "output_type": "stream",
          "name": "stdout",
          "text": [
            "0.02368247153816272\n",
            "0.9866832765237129\n"
          ]
        }
      ]
    },
    {
      "cell_type": "code",
      "source": [
        "#MAXIMO POR FILA O COLUMNA\n",
        "print(np.max(array6, axis=0))\n",
        "print(np.max(array6, axis=1))"
      ],
      "metadata": {
        "colab": {
          "base_uri": "https://localhost:8080/"
        },
        "id": "e-9fko4U1SEt",
        "outputId": "34cd3030-1387-4db5-8db0-4d50b9e591ed"
      },
      "execution_count": null,
      "outputs": [
        {
          "output_type": "stream",
          "name": "stdout",
          "text": [
            "[0.98668328 0.92455195 0.65205918 0.92581823 0.79941345]\n",
            "[0.79941345 0.92455195 0.92581823 0.8685013  0.98668328]\n"
          ]
        }
      ]
    },
    {
      "cell_type": "code",
      "source": [
        "#FILA ACUMULADA\n",
        "array6.cumsum(axis=1)"
      ],
      "metadata": {
        "colab": {
          "base_uri": "https://localhost:8080/"
        },
        "id": "0CUTBnta1sNu",
        "outputId": "26b508fe-1248-46dd-9d31-2ae34477b47d"
      },
      "execution_count": null,
      "outputs": [
        {
          "output_type": "execute_result",
          "data": {
            "text/plain": [
              "array([[0.55771642, 0.89254081, 1.48406142, 1.75316678, 2.55258022],\n",
              "       [0.46542389, 1.38997585, 1.93328509, 2.44845869, 3.13659076],\n",
              "       [0.78952715, 0.97818534, 1.00186781, 1.92768604, 2.0150418 ],\n",
              "       [0.84798314, 1.40482017, 2.05687935, 2.92538065, 3.45456742],\n",
              "       [0.98668328, 1.20035301, 1.81434777, 2.23474842, 2.37537736]])"
            ]
          },
          "metadata": {},
          "execution_count": 118
        }
      ]
    },
    {
      "cell_type": "code",
      "source": [
        "#MEDIA\n",
        "np.mean(array6)"
      ],
      "metadata": {
        "colab": {
          "base_uri": "https://localhost:8080/"
        },
        "id": "xERq-ZKq15oN",
        "outputId": "6e9ffd21-5fc8-41ef-daf0-fdda460a4ce2"
      },
      "execution_count": null,
      "outputs": [
        {
          "output_type": "execute_result",
          "data": {
            "text/plain": [
              "np.float64(0.541366302435802)"
            ]
          },
          "metadata": {},
          "execution_count": 119
        }
      ]
    },
    {
      "cell_type": "code",
      "source": [
        "#MEDIANA\n",
        "np.median(array6)"
      ],
      "metadata": {
        "colab": {
          "base_uri": "https://localhost:8080/"
        },
        "id": "IrK23VTm2CY2",
        "outputId": "519b5e27-d2a0-4191-c04f-8e30cd16cb01"
      },
      "execution_count": null,
      "outputs": [
        {
          "output_type": "execute_result",
          "data": {
            "text/plain": [
              "np.float64(0.5568370297365893)"
            ]
          },
          "metadata": {},
          "execution_count": 120
        }
      ]
    },
    {
      "cell_type": "code",
      "source": [
        "#DESVIACION\n",
        "np.std(array6)"
      ],
      "metadata": {
        "colab": {
          "base_uri": "https://localhost:8080/"
        },
        "id": "p3QXnt9a2LzF",
        "outputId": "8dc3828b-924d-4a8a-d90e-36260a4b7f50"
      },
      "execution_count": null,
      "outputs": [
        {
          "output_type": "execute_result",
          "data": {
            "text/plain": [
              "np.float64(0.27340515653961034)"
            ]
          },
          "metadata": {},
          "execution_count": 121
        }
      ]
    }
  ]
}